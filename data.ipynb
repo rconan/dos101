{
 "cells": [
  {
   "cell_type": "code",
   "execution_count": 1,
   "metadata": {},
   "outputs": [],
   "source": [
    "import pandas as pd\n",
    "import numpy as np\n",
    "import matplotlib.pyplot as plt"
   ]
  },
  {
   "cell_type": "code",
   "execution_count": 2,
   "metadata": {},
   "outputs": [],
   "source": [
    "data = pd.read_parquet(\"data.parquet\")"
   ]
  },
  {
   "cell_type": "code",
   "execution_count": 3,
   "metadata": {},
   "outputs": [
    {
     "data": {
      "text/html": [
       "<div>\n",
       "<style scoped>\n",
       "    .dataframe tbody tr th:only-of-type {\n",
       "        vertical-align: middle;\n",
       "    }\n",
       "\n",
       "    .dataframe tbody tr th {\n",
       "        vertical-align: top;\n",
       "    }\n",
       "\n",
       "    .dataframe thead th {\n",
       "        text-align: right;\n",
       "    }\n",
       "</style>\n",
       "<table border=\"1\" class=\"dataframe\">\n",
       "  <thead>\n",
       "    <tr style=\"text-align: right;\">\n",
       "      <th></th>\n",
       "      <th>WfeRms</th>\n",
       "      <th>SegmentPiston</th>\n",
       "      <th>DetectorFrame</th>\n",
       "    </tr>\n",
       "  </thead>\n",
       "  <tbody>\n",
       "    <tr>\n",
       "      <th>0</th>\n",
       "      <td>[7.963266712707195e-10]</td>\n",
       "      <td>[-2.933538689742221e-10, -2.9330793349657824e-...</td>\n",
       "      <td>[1546.8167, 1696.5538, 2305.791, 3217.255, 479...</td>\n",
       "    </tr>\n",
       "    <tr>\n",
       "      <th>1</th>\n",
       "      <td>[7.963266712707195e-10]</td>\n",
       "      <td>[-2.933538689742221e-10, -2.9330793349657824e-...</td>\n",
       "      <td>[3093.6333, 3393.1077, 4611.582, 6434.51, 9597...</td>\n",
       "    </tr>\n",
       "    <tr>\n",
       "      <th>2</th>\n",
       "      <td>[7.963266712707195e-10]</td>\n",
       "      <td>[-2.933538689742221e-10, -2.9330793349657824e-...</td>\n",
       "      <td>[4640.45, 5089.6616, 6917.373, 9651.765, 14396...</td>\n",
       "    </tr>\n",
       "    <tr>\n",
       "      <th>3</th>\n",
       "      <td>[7.963266712707195e-10]</td>\n",
       "      <td>[-2.933538689742221e-10, -2.9330793349657824e-...</td>\n",
       "      <td>[6187.2666, 6786.2153, 9223.164, 12869.02, 191...</td>\n",
       "    </tr>\n",
       "    <tr>\n",
       "      <th>4</th>\n",
       "      <td>[7.963266712707195e-10]</td>\n",
       "      <td>[-2.933538689742221e-10, -2.9330793349657824e-...</td>\n",
       "      <td>[7734.083, 8482.77, 11528.955, 16086.274, 2399...</td>\n",
       "    </tr>\n",
       "  </tbody>\n",
       "</table>\n",
       "</div>"
      ],
      "text/plain": [
       "                    WfeRms                                      SegmentPiston  \\\n",
       "0  [7.963266712707195e-10]  [-2.933538689742221e-10, -2.9330793349657824e-...   \n",
       "1  [7.963266712707195e-10]  [-2.933538689742221e-10, -2.9330793349657824e-...   \n",
       "2  [7.963266712707195e-10]  [-2.933538689742221e-10, -2.9330793349657824e-...   \n",
       "3  [7.963266712707195e-10]  [-2.933538689742221e-10, -2.9330793349657824e-...   \n",
       "4  [7.963266712707195e-10]  [-2.933538689742221e-10, -2.9330793349657824e-...   \n",
       "\n",
       "                                       DetectorFrame  \n",
       "0  [1546.8167, 1696.5538, 2305.791, 3217.255, 479...  \n",
       "1  [3093.6333, 3393.1077, 4611.582, 6434.51, 9597...  \n",
       "2  [4640.45, 5089.6616, 6917.373, 9651.765, 14396...  \n",
       "3  [6187.2666, 6786.2153, 9223.164, 12869.02, 191...  \n",
       "4  [7734.083, 8482.77, 11528.955, 16086.274, 2399...  "
      ]
     },
     "execution_count": 3,
     "metadata": {},
     "output_type": "execute_result"
    }
   ],
   "source": [
    "data"
   ]
  },
  {
   "cell_type": "code",
   "execution_count": 4,
   "metadata": {},
   "outputs": [
    {
     "data": {
      "text/plain": [
       "(262144,)"
      ]
     },
     "execution_count": 4,
     "metadata": {},
     "output_type": "execute_result"
    }
   ],
   "source": [
    "data['DetectorFrame'][0].shape"
   ]
  },
  {
   "cell_type": "code",
   "execution_count": 5,
   "metadata": {},
   "outputs": [
    {
     "data": {
      "text/plain": [
       "(5, 7)"
      ]
     },
     "execution_count": 5,
     "metadata": {},
     "output_type": "execute_result"
    }
   ],
   "source": [
    "np.vstack(data['SegmentPiston']).shape\n"
   ]
  },
  {
   "cell_type": "code",
   "execution_count": 6,
   "metadata": {},
   "outputs": [
    {
     "data": {
      "text/plain": [
       "<matplotlib.image.AxesImage at 0x7fa696436b38>"
      ]
     },
     "execution_count": 6,
     "metadata": {},
     "output_type": "execute_result"
    },
    {
     "data": {
      "image/png": "[encoded data removed]",
      "text/plain": [
       "<Figure size 432x288 with 1 Axes>"
      ]
     },
     "metadata": {},
     "output_type": "display_data"
    }
   ],
   "source": [
    "plt.imshow(data['DetectorFrame'][0].reshape(512,-1))\n"
   ]
  },
  {
   "cell_type": "code",
   "execution_count": null,
   "metadata": {},
   "outputs": [],
   "source": []
  }
 ],
 "metadata": {
  "interpreter": {
   "hash": "caf1c2fcf97217de91eafa76b907d50f9ea378f5ffbee7f571142d119bb6a771"
  },
  "kernelspec": {
   "display_name": "Python 3.6.10 ('base')",
   "language": "python",
   "name": "python3"
  },
  "language_info": {
   "codemirror_mode": {
    "name": "ipython",
    "version": 3
   },
   "file_extension": ".py",
   "mimetype": "text/x-python",
   "name": "python",
   "nbconvert_exporter": "python",
   "pygments_lexer": "ipython3",
   "version": "3.6.10"
  },
  "orig_nbformat": 4
 },
 "nbformat": 4,
 "nbformat_minor": 2
}
