{
 "cells": [
  {
   "cell_type": "code",
   "execution_count": 1,
   "metadata": {},
   "outputs": [],
   "source": [
    "import pandas as pd\n",
    "import numpy as np\n",
    "import matplotlib.pyplot as plt"
   ]
  },
  {
   "cell_type": "code",
   "execution_count": 24,
   "metadata": {},
   "outputs": [],
   "source": [
    "data = pd.read_parquet(\"data.parquet\")"
   ]
  },
  {
   "cell_type": "code",
   "execution_count": 25,
   "metadata": {},
   "outputs": [
    {
     "data": {
      "text/html": [
       "<div>\n",
       "<style scoped>\n",
       "    .dataframe tbody tr th:only-of-type {\n",
       "        vertical-align: middle;\n",
       "    }\n",
       "\n",
       "    .dataframe tbody tr th {\n",
       "        vertical-align: top;\n",
       "    }\n",
       "\n",
       "    .dataframe thead th {\n",
       "        text-align: right;\n",
       "    }\n",
       "</style>\n",
       "<table border=\"1\" class=\"dataframe\">\n",
       "  <thead>\n",
       "    <tr style=\"text-align: right;\">\n",
       "      <th></th>\n",
       "      <th>WfeRms</th>\n",
       "      <th>SegmentPiston</th>\n",
       "      <th>DetectorFrame</th>\n",
       "    </tr>\n",
       "  </thead>\n",
       "  <tbody>\n",
       "    <tr>\n",
       "      <th>0</th>\n",
       "      <td>[7.963266712707195e-10]</td>\n",
       "      <td>[-2.933538689742221e-10, -2.9330793349657824e-...</td>\n",
       "      <td>[712962.2, 835863.94, 3562905.2, 5736370.5, 54...</td>\n",
       "    </tr>\n",
       "    <tr>\n",
       "      <th>1</th>\n",
       "      <td>[7.963266712707195e-10]</td>\n",
       "      <td>[-2.933538689742221e-10, -2.9330793349657824e-...</td>\n",
       "      <td>[1425924.4, 1671727.9, 7125810.5, 11472741.0, ...</td>\n",
       "    </tr>\n",
       "    <tr>\n",
       "      <th>2</th>\n",
       "      <td>[7.963266712707195e-10]</td>\n",
       "      <td>[-2.933538689742221e-10, -2.9330793349657824e-...</td>\n",
       "      <td>[2138886.5, 2507591.8, 10688716.0, 17209112.0,...</td>\n",
       "    </tr>\n",
       "    <tr>\n",
       "      <th>3</th>\n",
       "      <td>[7.963266712707195e-10]</td>\n",
       "      <td>[-2.933538689742221e-10, -2.9330793349657824e-...</td>\n",
       "      <td>[2851848.8, 3343455.8, 14251621.0, 22945482.0,...</td>\n",
       "    </tr>\n",
       "    <tr>\n",
       "      <th>4</th>\n",
       "      <td>[7.963266712707195e-10]</td>\n",
       "      <td>[-2.933538689742221e-10, -2.9330793349657824e-...</td>\n",
       "      <td>[3564811.0, 4179319.8, 17814526.0, 28681852.0,...</td>\n",
       "    </tr>\n",
       "  </tbody>\n",
       "</table>\n",
       "</div>"
      ],
      "text/plain": [
       "                    WfeRms                                      SegmentPiston  \\\n",
       "0  [7.963266712707195e-10]  [-2.933538689742221e-10, -2.9330793349657824e-...   \n",
       "1  [7.963266712707195e-10]  [-2.933538689742221e-10, -2.9330793349657824e-...   \n",
       "2  [7.963266712707195e-10]  [-2.933538689742221e-10, -2.9330793349657824e-...   \n",
       "3  [7.963266712707195e-10]  [-2.933538689742221e-10, -2.9330793349657824e-...   \n",
       "4  [7.963266712707195e-10]  [-2.933538689742221e-10, -2.9330793349657824e-...   \n",
       "\n",
       "                                       DetectorFrame  \n",
       "0  [712962.2, 835863.94, 3562905.2, 5736370.5, 54...  \n",
       "1  [1425924.4, 1671727.9, 7125810.5, 11472741.0, ...  \n",
       "2  [2138886.5, 2507591.8, 10688716.0, 17209112.0,...  \n",
       "3  [2851848.8, 3343455.8, 14251621.0, 22945482.0,...  \n",
       "4  [3564811.0, 4179319.8, 17814526.0, 28681852.0,...  "
      ]
     },
     "execution_count": 25,
     "metadata": {},
     "output_type": "execute_result"
    }
   ],
   "source": [
    "data"
   ]
  },
  {
   "cell_type": "code",
   "execution_count": 26,
   "metadata": {},
   "outputs": [
    {
     "data": {
      "text/plain": [
       "(4096,)"
      ]
     },
     "execution_count": 26,
     "metadata": {},
     "output_type": "execute_result"
    }
   ],
   "source": [
    "data['DetectorFrame'][0].shape"
   ]
  },
  {
   "cell_type": "code",
   "execution_count": 27,
   "metadata": {},
   "outputs": [
    {
     "data": {
      "text/plain": [
       "(5, 7)"
      ]
     },
     "execution_count": 27,
     "metadata": {},
     "output_type": "execute_result"
    }
   ],
   "source": [
    "np.vstack(data['SegmentPiston']).shape\n"
   ]
  },
  {
   "cell_type": "code",
   "execution_count": 29,
   "metadata": {},
   "outputs": [
    {
     "data": {
      "text/plain": [
       "<matplotlib.image.AxesImage at 0x7fa6738ca630>"
      ]
     },
     "execution_count": 29,
     "metadata": {},
     "output_type": "execute_result"
    },
    {
     "data": {
      "image/png": "[encoded data removed]",
      "text/plain": [
       "<Figure size 432x288 with 1 Axes>"
      ]
     },
     "metadata": {},
     "output_type": "display_data"
    }
   ],
   "source": [
    "plt.imshow(data['DetectorFrame'][0].reshape(64,-1))\n"
   ]
  },
  {
   "cell_type": "code",
   "execution_count": null,
   "metadata": {},
   "outputs": [],
   "source": []
  }
 ],
 "metadata": {
  "interpreter": {
   "hash": "caf1c2fcf97217de91eafa76b907d50f9ea378f5ffbee7f571142d119bb6a771"
  },
  "kernelspec": {
   "display_name": "Python 3.6.10 ('base')",
   "language": "python",
   "name": "python3"
  },
  "language_info": {
   "codemirror_mode": {
    "name": "ipython",
    "version": 3
   },
   "file_extension": ".py",
   "mimetype": "text/x-python",
   "name": "python",
   "nbconvert_exporter": "python",
   "pygments_lexer": "ipython3",
   "version": "3.6.10"
  },
  "orig_nbformat": 4
 },
 "nbformat": 4,
 "nbformat_minor": 2
}
